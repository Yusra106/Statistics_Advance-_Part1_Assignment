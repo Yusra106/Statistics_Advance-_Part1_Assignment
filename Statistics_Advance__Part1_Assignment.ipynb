{
  "nbformat": 4,
  "nbformat_minor": 0,
  "metadata": {
    "colab": {
      "provenance": []
    },
    "kernelspec": {
      "name": "python3",
      "display_name": "Python 3"
    },
    "language_info": {
      "name": "python"
    }
  },
  "cells": [
    {
      "cell_type": "markdown",
      "source": [
        "# **STATISTICS ADVANCE PART1 ASSIGNMENT**"
      ],
      "metadata": {
        "id": "E0naUIVuEZCg"
      }
    },
    {
      "cell_type": "markdown",
      "source": [
        "Ques1. What is a random variable in probability theory ?"
      ],
      "metadata": {
        "id": "nAhno_KDEk3m"
      }
    },
    {
      "cell_type": "markdown",
      "source": [
        "In **probability theory**, a **random variable** is a function that assigns a numerical value to each outcome in a sample space of a random experiment.\n",
        "Example:\n",
        "\n",
        "* If you roll a six-sided die, the sample space is {1, 2, 3, 4, 5, 6}.\n",
        "* Define a random variable $X$ such that $X(\\text{outcome}) = \\text{the number shown on the die}$.\n",
        "* Here, $X$ is a discrete random variable with possible values 1 through 6.\n",
        "\n",
        "\n"
      ],
      "metadata": {
        "id": "gr0TJIALE67d"
      }
    },
    {
      "cell_type": "markdown",
      "source": [
        "Ques2. What are the types of random variables ?"
      ],
      "metadata": {
        "id": "vc03aTFZICu9"
      }
    },
    {
      "cell_type": "markdown",
      "source": [
        "There are two main types:\n",
        "\n",
        "1. **Discrete Random Variable**: Takes on a finite or countably infinite set of values (e.g., number of heads in 3 coin tosses).\n",
        "2. **Continuous Random Variable**: Takes on values in a continuous range (e.g., the time it takes for a bus to arrive)."
      ],
      "metadata": {
        "id": "HXAGGmYUH4Am"
      }
    },
    {
      "cell_type": "markdown",
      "source": [
        "Ques3. What is the difference between discrete and continuous distributions ?"
      ],
      "metadata": {
        "id": "l3PzB1_XITRt"
      }
    },
    {
      "cell_type": "markdown",
      "source": [
        "The **key difference** between **discrete** and **continuous** distributions lies in the type of values the random variables can take:\n",
        "\n",
        "**Discrete Distributions:**\n",
        "* Deal with **countable** outcomes.\n",
        "* The random variable takes on **specific, separate values** (often integers).\n",
        "* You can list all possible outcomes (even if infinite, like the integers).\n",
        "* Examples:\n",
        "  * Number of heads in 10 coin tosses (Binomial distribution).\n",
        "  * Number of customer arrivals per hour (Poisson distribution).\n",
        "\n",
        "**Probability is assigned to each individual value.**\n",
        "e.g., $P(X = 3) = 0.2$\n",
        "\n",
        "**Continuous Distributions:**\n",
        "* Deal with **uncountable** outcomes over an interval.\n",
        "* The random variable can take on **any value within a range**, including fractions/decimals.\n",
        "* Examples:\n",
        "  * Heights of people (Normal distribution).\n",
        "  * Time between events (Exponential distribution).\n",
        "\n",
        "**Probability is assigned over intervals, not individual points.**\n",
        "e.g., $P(2 < X < 3) = 0.15$, but $P(X = 2.5) = 0$\n",
        "\n"
      ],
      "metadata": {
        "id": "AXEYuHfUIZw1"
      }
    },
    {
      "cell_type": "markdown",
      "source": [
        "Ques4. What are probability distribution functions (PDF) ?\n"
      ],
      "metadata": {
        "id": "Uqc0Gl0gInjF"
      }
    },
    {
      "cell_type": "markdown",
      "source": [
        "A **Probability Distribution Function (PDF)** describes how the probabilities of a **continuous random variable** are distributed. In essence, it gives the **likelihood of a random variable taking on a particular value or falling within a certain range**.\n",
        "\n",
        "**Definition**\n",
        "\n",
        "For a continuous random variable $X$, a **PDF** is a function $f(x)$ such that:\n",
        "\n",
        "1. **Non-negative**: $f(x) \\geq 0$ for all $x$\n",
        "2. **Total area under the curve = 1**:\n",
        "\n",
        "   $$\n",
        "   \\int_{-\\infty}^{\\infty} f(x)\\, dx = 1\n",
        "   $$\n",
        "3. **Probability over an interval**:\n",
        "   The probability that $X$ falls within an interval $[a, b]$ is:\n",
        "\n",
        "   $$\n",
        "   P(a \\leq X \\leq b) = \\int_{a}^{b} f(x)\\, dx\n",
        "   $$\n",
        "Example: Normal Distribution (Bell Curve)\n",
        "\n",
        "The PDF of the **standard normal distribution** is:\n",
        "\n",
        "$$\n",
        "f(x) = \\frac{1}{\\sqrt{2\\pi}} e^{-\\frac{x^2}{2}}\n",
        "$$\n",
        "\n",
        "It's symmetric around 0, and most of the probability mass lies within 3 standard deviations from the mean.\n",
        "\n",
        "\n",
        "* A PDF **does not** give the probability that $X = x$ (which is always zero for continuous variables), but rather the **density** at that point.\n",
        "* The **higher the value of $f(x)$** at a point, the more likely values near $x$ are.\n",
        "\n"
      ],
      "metadata": {
        "id": "-MQhwuwhJe0O"
      }
    },
    {
      "cell_type": "markdown",
      "source": [
        "Ques5. How do cumulative distribution functions (CDF) differ from probability distribution functions (PDF) ?"
      ],
      "metadata": {
        "id": "4zthzJCtJpaN"
      }
    },
    {
      "cell_type": "markdown",
      "source": [
        "Cumulative Distribution Functions (CDFs) and Probability Distribution Functions (PDFs) are both used to describe probability distributions, but they serve different purposes and have distinct mathematical forms. Here's how they differ:\n",
        "\n",
        "**1. Definition**\n",
        "\n",
        "* **PDF (Probability Density Function)**:\n",
        "  Describes the **relative likelihood** of a continuous random variable taking on a specific value.\n",
        "  For continuous variables, the probability of any single exact value is zero, but the PDF shows how dense the probability is around a value.\n",
        "\n",
        "* **CDF (Cumulative Distribution Function)**:\n",
        "  Describes the **probability that a random variable is less than or equal to a specific value**. It accumulates the probability up to that point.\n",
        "\n",
        "**2. Mathematical Expression**\n",
        "\n",
        "* **PDF**:\n",
        "  $f(x)$\n",
        "  Where $f(x) \\geq 0$, and\n",
        "  $\\int_{-\\infty}^{\\infty} f(x)\\,dx = 1$\n",
        "\n",
        "* **CDF**:\n",
        "  $F(x) = P(X \\leq x) = \\int_{-\\infty}^{x} f(t)\\,dt$\n",
        "\n",
        "**3. Properties**\n",
        "\n",
        "* **PDF**:\n",
        "\n",
        "  * Not always bounded above by 1.\n",
        "  * The area under the curve between two points gives the probability of the variable falling in that interval.\n",
        "\n",
        "* **CDF**:\n",
        "\n",
        "  * Always between 0 and 1.\n",
        "  * Non-decreasing function.\n",
        "  * Right-continuous with limits:\n",
        "    $\\lim_{x \\to -\\infty} F(x) = 0 \\quad \\text{and} \\quad \\lim_{x \\to \\infty} F(x) = 1$\n",
        "\n",
        "**4. Graphical Interpretation**\n",
        "\n",
        "* **PDF**: A curve that shows peaks where the data is most concentrated.\n",
        "* **CDF**: An S-shaped or step-like curve (in discrete cases) that increases from 0 to 1.\n",
        "\n",
        "**5. Use Case**\n",
        "\n",
        "* Use the **PDF** to understand the shape and density of a distribution.\n",
        "* Use the **CDF** when you want to calculate **probabilities up to a certain threshold** (e.g., $P(X \\leq x)$).\n",
        "\n"
      ],
      "metadata": {
        "id": "Rqsh0UavKXAe"
      }
    },
    {
      "cell_type": "markdown",
      "source": [
        "Ques6. What is a discrete uniform distribution ?"
      ],
      "metadata": {
        "id": "cfLEupMjK57F"
      }
    },
    {
      "cell_type": "markdown",
      "source": [
        "A **discrete uniform distribution** is a type of probability distribution in which **a finite number of outcomes are equally likely** to occur.\n",
        "\n",
        "**Key Characteristics:**\n",
        "\n",
        "* **Discrete**: The outcomes are countable and separate (e.g., integers).\n",
        "* **Uniform**: Each possible outcome has the **same probability**.\n",
        "**Common Example:**\n",
        "\n",
        "Rolling a fair 6-sided die:\n",
        "\n",
        "* Possible outcomes: {1, 2, 3, 4, 5, 6}\n",
        "* Each outcome has a probability of $\\frac{1}{6}$\n",
        "\n",
        "**Formal Definition:**\n",
        "\n",
        "If a random variable $X$ can take on **n** distinct values $x_1, x_2, ..., x_n$, and\n",
        "\n",
        "$$\n",
        "P(X = x_i) = \\frac{1}{n} \\quad \\text{for all } i = 1, 2, ..., n\n",
        "$$\n",
        "\n",
        "then $X$ follows a discrete uniform distribution.\n",
        "\n",
        "**Notation**:\n",
        "\n",
        "Sometimes written as:\n",
        "\n",
        "$$\n",
        "X \\sim \\text{Uniform}(a, b)\n",
        "$$\n",
        "\n",
        "where $a$ and $b$ are the minimum and maximum integers in the range, and all integers between them are equally likely.\n",
        "\n"
      ],
      "metadata": {
        "id": "nTIsO7fiLc52"
      }
    },
    {
      "cell_type": "markdown",
      "source": [
        "Ques7. What are the key properties of a Bernoulli distribution ?"
      ],
      "metadata": {
        "id": "t1A5OZJJLzpt"
      }
    },
    {
      "cell_type": "markdown",
      "source": [
        "The Bernoulli distribution is a discrete probability distribution with only two possible outcomes: success (usually represented as 1) or failure (usually represented as 0). It is characterized by a single parameter, the probability of success, denoted as 'p'. The key properties of a Bernoulli distribution include:\n",
        "\n",
        "**Binary Outcomes:** The random variable can only take on the values 0 or 1, representing failure or success, respectively.\n",
        "\n",
        "**Independence:** Each trial is independent of other trials, meaning the outcome of one trial does not influence the outcome of any other trial.\n",
        "Constant Probability: The probability of success (p) remains the same for each trial.\n",
        "\n",
        "**Expected Value**: The expected value (or mean) of a Bernoulli random variable is equal to the probability of success, 'p'.\n",
        "\n",
        "**Variance**: The variance of a Bernoulli random variable is given by p * (1 - p).\n",
        "\n",
        "**Sum of Probabilities:** The probability of success (p) plus the probability of failure (1 - p) must equal 1.\n",
        "\n",
        "**Special Case of Binomial**:  The Bernoulli distribution can be seen as a special case of the binomial distribution where the number of trials (n) is equal to 1."
      ],
      "metadata": {
        "id": "CkupwyP9OjMm"
      }
    },
    {
      "cell_type": "markdown",
      "source": [
        "Ques8. What is the binomial distribution, and how is it used in probability ?"
      ],
      "metadata": {
        "id": "TiDNVvSIOkQW"
      }
    },
    {
      "cell_type": "markdown",
      "source": [
        "The **binomial distribution** is a probability distribution that models the number of successes in a fixed number of independent trials, where each trial has only two possible outcomes: success or failure. It's a key concept in probability and statistics, used to analyze the likelihood of certain events happening a specific number of times out of a set number of attempts."
      ],
      "metadata": {
        "id": "KKDJSPGJaxgu"
      }
    },
    {
      "cell_type": "markdown",
      "source": [
        "Ques9. What is the Poisson distribution and where is it applied ?"
      ],
      "metadata": {
        "id": "ZdlBXkFmbCfG"
      }
    },
    {
      "cell_type": "markdown",
      "source": [
        " **The Poisson distribution** is a discrete probability distribution that describes the probability of a certain number of events happening in a fixed interval of time or space, given that these events occur independently at a constant average rate. It's commonly used for modeling the frequency of rare events or counts of occurrences when these events are independent and occur at a constant rate"
      ],
      "metadata": {
        "id": "CbeD5i-pbybf"
      }
    },
    {
      "cell_type": "markdown",
      "source": [
        "Ques10. What is a continuous uniform distribution ?"
      ],
      "metadata": {
        "id": "8IiseA0LdC5_"
      }
    },
    {
      "cell_type": "markdown",
      "source": [
        "A **continuous uniform distribution** is a type of probability distribution in which all outcomes within a certain interval are equally likely. It's defined over a continuous range, meaning the variable can take on an infinite number of values within that interval.\n",
        "\n"
      ],
      "metadata": {
        "id": "nEzJceJGc8Me"
      }
    },
    {
      "cell_type": "markdown",
      "source": [
        "Ques11. What are the characteristics of a normal distribution ?"
      ],
      "metadata": {
        "id": "42d_4_ELddxe"
      }
    },
    {
      "cell_type": "markdown",
      "source": [
        "A **normal distribution**, also known as a **Gaussian distribution**, is a fundamental concept in statistics with the following key characteristics:\n",
        "\n",
        "1. **Bell-shaped curve**:\n",
        "\n",
        "   * The distribution is symmetric about the mean, forming a bell-shaped curve.\n",
        "   * The highest point corresponds to the mean, median, and mode, which are all equal.\n",
        "\n",
        "2. **Symmetry**:\n",
        "\n",
        "   * The left and right sides of the curve are mirror images.\n",
        "   * The probabilities for values equidistant from the mean are the same.\n",
        "\n",
        "3. **Mean = Median = Mode**:\n",
        "\n",
        "   * These three measures of central tendency are located at the center of the distribution.\n",
        "\n",
        "4. **Defined by two parameters**:\n",
        "\n",
        "   * **Mean (μ)**: Determines the location of the center of the graph.\n",
        "   * **Standard deviation (σ)**: Determines the spread or width of the distribution.\n",
        "\n",
        "5. **68-95-99.7 rule (Empirical Rule)**:\n",
        "\n",
        "   * About **68%** of the data falls within ±1σ of the mean.\n",
        "   * About **95%** within ±2σ.\n",
        "   * About **99.7%** within ±3σ.\n",
        "\n",
        "6. **Asymptotic**:\n",
        "\n",
        "   * The tails of the distribution approach, but never touch, the horizontal axis (x-axis).\n",
        "\n",
        "7. **Unimodal**:\n",
        "\n",
        "   * There is only one peak (mode) in the distribution.\n",
        "\n"
      ],
      "metadata": {
        "id": "5yvZsfSAdo93"
      }
    },
    {
      "cell_type": "markdown",
      "source": [
        "Ques12. What is the standard normal distribution, and why is it important?"
      ],
      "metadata": {
        "id": "PeGd-c8od9g9"
      }
    },
    {
      "cell_type": "markdown",
      "source": [
        "The **standard normal distribution** is a specific normal distribution with a mean of 0 and a standard deviation of 1. It's a crucial tool in statistics because it allows for easy probability calculations and comparisons across different normal distributions.\n",
        "\n",
        "**Why is it important?**\n",
        "\n",
        "**Standardization**:\n",
        "Any normal distribution can be transformed into the standard normal distribution by converting individual data points into z-scores, which represent how many standard deviations away from the mean a data point lies.\n",
        "\n",
        "**Probability calculations**:\n",
        "Using standard normal tables or calculators, one can easily find the probability of a data point falling within a certain range in any normal distribution.\n",
        "\n",
        "**Comparison of datasets**:\n",
        "By converting data to z-scores, it becomes easier to compare the relative position of a data point within different distributions, even if they have different means and standard deviations.\n",
        "\n",
        "**Foundation for other statistical concepts**:\n",
        "The standard normal distribution is a cornerstone for many statistical techniques, including hypothesis testing and confidence interval calculations."
      ],
      "metadata": {
        "id": "ZmVOsptJfC0C"
      }
    },
    {
      "cell_type": "markdown",
      "source": [
        "Ques13. What is the Central Limit Theorem (CLT), and why is it critical in statistics ?"
      ],
      "metadata": {
        "id": "KHSKmwiffJdP"
      }
    },
    {
      "cell_type": "markdown",
      "source": [
        "The **Central Limit Theorem (CLT)** is a foundational concept in statistics stating that the distribution of sample means approaches a normal distribution as the sample size increases, regardless of the original population's distribution. This is critical because it allows us to make inferences about populations using sample data and apply powerful statistical methods designed for normal distributions.\n",
        "\n",
        "**What is the Central Limit Theorem?**\n",
        "\n",
        "The CLT essentially says that if you take many random samples from any\n",
        "\n",
        "* population and calculate the mean of each sample, the distribution of those sample means will start to resemble a normal distribution (bell curve) as the sample size increases.\n",
        "\n",
        "* This holds true even if the original population distribution is not normal (e.g., it could be skewed, uniform, or something else).\n",
        "\n",
        "* The larger the sample size, the closer the distribution of sample means will be to a normal distribution.\n",
        "\n",
        "* A sample size of 30 or more is often considered sufficient to apply the CLT.\n",
        "\n",
        "**Why is it Critical in Statistics?**\n",
        "\n",
        "**Makes Statistical Inference Possible**:\n",
        "The CLT allows us to use the normal distribution to make inferences about population parameters (like the population mean) based on sample data.\n",
        "Foundation for Many Statistical Methods:\n",
        "Many statistical tests and confidence interval calculations rely on the assumption of a normal distribution. The CLT ensures that we can use these methods even if the original population is not normally distributed, as long as we have large enough samples.\n",
        "\n",
        "**Predictability and Understanding**:\n",
        "The CLT provides a framework for understanding and predicting the behavior of sample means, making it easier to draw conclusions about populations based on data.\n",
        "\n",
        "**Simplifies Analysis**:\n",
        "The CLT simplifies complex statistical problems by allowing us to use the well-understood normal distribution for a wide range of applications.\n",
        "\n",
        "**Applications in Real-World Scenarios**:\n",
        "The CLT has applications in diverse fields like finance, engineering, public health, and social sciences, enabling us to make informed decisions based on data.\n"
      ],
      "metadata": {
        "id": "g9S0I6tLz47A"
      }
    },
    {
      "cell_type": "markdown",
      "source": [
        "Que14. How does the Central Limit Theorem relate to the normal distribution ?"
      ],
      "metadata": {
        "id": "wukAvWWD8bRZ"
      }
    },
    {
      "cell_type": "markdown",
      "source": [
        "The Central Limit Theorem (CLT) explains how the distribution of sample means approaches a normal distribution as the sample size increases, regardless of the original population distribution's shape. This theorem is fundamental because it allows us to use the normal distribution for statistical inferences, even when the underlying data isn't normally distributed.\n"
      ],
      "metadata": {
        "id": "0D8ZEEFN9xfn"
      }
    },
    {
      "cell_type": "markdown",
      "source": [
        "Ques15. What is the application of Z statistics in hypothesis testing ?"
      ],
      "metadata": {
        "id": "aBaOWmF5-U-g"
      }
    },
    {
      "cell_type": "markdown",
      "source": [
        "Z-statistics (or Z-scores) are widely used in hypothesis testing, particularly when dealing with large sample sizes and when the population standard deviation is known.\n",
        "**Applications of Z-Statistics in Hypothesis Testing**:\n",
        "\n",
        "**Testing Population Means (One-Sample Z-Test)**:\n",
        "\n",
        "Used to test whether the sample mean significantly differs from the population mean.\n",
        "\n",
        "Assumes population standard deviation (σ) is known.\n",
        "\n",
        "Example: Testing if the average height of students in a school differs from the national average.\n",
        "\n",
        "**Comparing Two Population Means (Two-Sample Z-Test)**:\n",
        "\n",
        "Tests if the means of two independent samples differ significantly.\n",
        "\n",
        "Again assumes known population standard deviations or large sample sizes (CLT applies).\n",
        "\n",
        "**Proportion Testing (Z-Test for Proportions)**:\n",
        "\n",
        "Used to test hypotheses about population proportions.\n",
        "\n",
        "Example: Testing if the proportion of voters favoring a candidate differs from 50%.\n",
        "\n",
        "**Confidence Intervals**:\n",
        "\n",
        "Z-scores are used to construct confidence intervals for population parameters (means, proportions) when σ is known.\n",
        "\n",
        "**Control Charts (Quality Control)**:\n",
        "\n",
        "Z-statistics are used to monitor production processes and identify variations beyond acceptable limits."
      ],
      "metadata": {
        "id": "-4R9aze--Xg4"
      }
    },
    {
      "cell_type": "markdown",
      "source": [
        "Ques16. How do you calculate a Z-score, and what does it represent ?"
      ],
      "metadata": {
        "id": "adj7DTSQ-1aH"
      }
    },
    {
      "cell_type": "markdown",
      "source": [
        "A **Z-score (also called a standard score)** measures how many standard deviations a data point is from the mean of a dataset.\n",
        "\n"
      ],
      "metadata": {
        "id": "sXAbRDVs_cMQ"
      }
    },
    {
      "cell_type": "markdown",
      "source": [
        "![for.png](data:image/png;base64,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)"
      ],
      "metadata": {
        "id": "IR6iDCIH_18F"
      }
    },
    {
      "cell_type": "markdown",
      "source": [
        "  \n",
        " Where:\n",
        "\n",
        "Z = Z-score\n",
        "\n",
        "X = value of the data point\n",
        "\n",
        "μ = population mean (or sample mean if population is unknown)\n",
        "\n",
        "σ = population standard deviation (or sample standard deviation)\n",
        "\n",
        "**What It Represents**:\n",
        "\n",
        "A Z-score of 0 means the data point is exactly at the mean.\n",
        "\n",
        "A positive Z-score means the data point is above the mean.\n",
        "\n",
        "A negative Z-score means the data point is below the mean.\n",
        "\n",
        "The magnitude of the Z-score tells you how far from the mean the value is, in terms of standard deviations.\n",
        "\n",
        "\n"
      ],
      "metadata": {
        "id": "LGzH3cIPA9D5"
      }
    },
    {
      "cell_type": "markdown",
      "source": [
        "Ques17. What are point estimates and interval estimates in statistics ?"
      ],
      "metadata": {
        "id": "u_sPCZJlBhrY"
      }
    },
    {
      "cell_type": "markdown",
      "source": [
        "In statistics, point estimates use a single value from a sample to estimate a population parameter, while interval estimates provide a range of values within which the population parameter is likely to fall.\n",
        "\n",
        "**Point Estimates**:\n",
        "\n",
        "A point estimate is a single value used to estimate a population parameter.\n",
        "\n",
        "It's a \"best guess\" of the population parameter based on the sample data.\n",
        "\n",
        "Examples: the sample mean is a point estimate of the population mean, and the sample proportion is a point estimate of the population proportion.\n",
        "\n",
        "**Interval Estimates**:\n",
        "\n",
        "An interval estimate is a range of values that is likely to contain the true population parameter.\n",
        "\n",
        "Confidence intervals are the most common type of interval estimate.\n",
        "\n",
        "They provide a measure of uncertainty associated with the estimate, using a confidence level (e.g., 95% confidence).\n",
        "\n",
        "**Key Differences**:\n",
        "\n",
        "Point estimates offer a single, specific value, while interval estimates provide a range.\n",
        "\n",
        "Interval estimates are more informative because they provide information about the precision and reliability of the estimate.\n",
        "\n",
        "While point estimates can be useful, they don't provide a sense of how close they are to the true population parameter."
      ],
      "metadata": {
        "id": "1VlrevxTFQZS"
      }
    },
    {
      "cell_type": "markdown",
      "source": [
        "Ques18. What is the significance of confidence intervals in statistical analysis ?"
      ],
      "metadata": {
        "id": "RoTjQDaFFpy4"
      }
    },
    {
      "cell_type": "markdown",
      "source": [
        "Confidence intervals (CIs) are crucial in statistical analysis because they provide a range of values within which we can be reasonably certain the true population parameter (like a mean or proportion) lies.\n",
        " Their significance includes:\n",
        "\n",
        "**Quantifying Uncertainty**: Rather than giving just a point estimate (e.g., the average height is 170 cm), a confidence interval (e.g., 170 ± 2 cm) shows the uncertainty around that estimate.\n",
        "\n",
        "**Inferential Power**: CIs allow researchers to make inferences about a population based on sample data. For example, a 95% confidence interval means that if you repeated the experiment 100 times, about 95 of those intervals would contain the true population value.\n",
        "\n",
        "**Decision Making**: In fields like medicine, economics, or engineering, confidence intervals help determine whether observed effects are statistically significant and practically important.\n",
        "\n",
        "**Comparison of Groups**: CIs help compare groups by seeing if their intervals overlap—if they don’t, it suggests a significant difference.\n",
        "\n",
        "More Informative than P-values Alone: While p-values tell you whether an effect exists, confidence intervals show the range of likely effect sizes, which is often more useful for understanding real-world impact."
      ],
      "metadata": {
        "id": "qvhJ2KaTLSn6"
      }
    },
    {
      "cell_type": "markdown",
      "source": [
        "Que19. What is the relationship between a Z-score and a confidence interval ?"
      ],
      "metadata": {
        "id": "N2KrphYcMJRj"
      }
    },
    {
      "cell_type": "markdown",
      "source": [
        "A **Z-score and a confidence interval** are related because the Z-score is used to determine the margin of error in a confidence interval. The Z-score represents how many standard deviations a data point is from the mean, and this value is used in the confidence interval formula to calculate the range within which a population parameter is likely to fall.\n",
        "\n",
        "**Z-score**:\n",
        "A Z-score quantifies how far a particular observation is from the mean of a distribution, expressed in terms of standard deviations. For example, a Z-score of 1.96 means the observation is 1.96 standard deviations away from the mean.\n",
        "\n",
        "**Confidence Interval**:\n",
        "A confidence interval is a range of values that is likely to contain the true value of a population parameter (like the population mean) with a certain level of confidence.\n",
        "\n",
        "**Relationship**:\n",
        "The Z-score is used in the confidence interval formula to calculate the margin of error, which defines the width of the confidence interval.\n",
        "\n",
        "**Example**:\n",
        "If you want a 95% confidence interval, you would use a Z-score of 1.96 (approximately).\n",
        "\n",
        "This Z-score is used in the formula: Confidence Interval = Sample Mean ± (Z-score * Standard Error).\n",
        "\n",
        "The standard error is the standard deviation of the sampling distribution of the sample mean, and it's calculated as the sample standard deviation divided by the square root of the sample size."
      ],
      "metadata": {
        "id": "ez5J67K5MQ46"
      }
    },
    {
      "cell_type": "markdown",
      "source": [
        "Ques20. How are Z-scores used to compare different distributions ?"
      ],
      "metadata": {
        "id": "IRqllr4tNJsZ"
      }
    },
    {
      "cell_type": "markdown",
      "source": [
        "Z-scores are used to compare different distributions by standardizing data points to a common scale, allowing for meaningful comparisons even when distributions have different means and standard deviations. They express how many standard deviations a data point is away from the mean of its distribution, providing a way to compare relative positions of data within various datasets.\n",
        "\n",
        "**Z-scores are useful for comparing different distributions**:\n",
        "\n",
        "**Standardization**: Z-scores transform different distributions to the same scale — one with a mean of 0 and a standard deviation of 1.\n",
        "\n",
        "**Comparability**: Once standardized, values from different distributions can be compared directly, even if those distributions had different original units, means, or variances."
      ],
      "metadata": {
        "id": "ETooebMJNX-B"
      }
    },
    {
      "cell_type": "markdown",
      "source": [
        "Ques21. What are the assumptions for applying the Central Limit Theorem ?"
      ],
      "metadata": {
        "id": "Yr6rWNHnN4hp"
      }
    },
    {
      "cell_type": "markdown",
      "source": [
        "The Central Limit Theorem (CLT) has several key assumptions that ensure its validity. Primarily, samples must be drawn randomly and independently, and the sample size should be sufficiently large. Additionally, if sampling is done without replacement, the sample size should not exceed 10% of the population.\n",
        "\n",
        "Detailed breakdown of the assumptions:\n",
        "\n",
        "1. **Random and Independent Sampling**:\n",
        "Samples should be drawn randomly from the population, ensuring each unit has an equal chance of being selected.\n",
        "Samples should be independent of each other, meaning the selection of one sample should not influence the selection or results of any other sample.\n",
        "\n",
        "2. **Sample Size**: The sample size should be sufficiently large. While there's no definitive number, a sample size of 30 or more is generally considered a good rule of thumb, especially for non-normal populations.\n",
        "If sampling is done without replacement, the sample size should not exceed 10% of the population size to maintain independence.\n",
        "\n",
        "3. **Population Distribution**: While the CLT works regardless of the population distribution, it's important to note that if the population is highly skewed or has outliers, a larger sample size may be needed for the sampling distribution of the means to approach a normal distribution."
      ],
      "metadata": {
        "id": "IhttXNZaOlZC"
      }
    },
    {
      "cell_type": "markdown",
      "source": [
        "Ques22. What is the concept of expected value in a probability distribution ?"
      ],
      "metadata": {
        "id": "jJJwraAdO4OB"
      }
    },
    {
      "cell_type": "markdown",
      "source": [
        "The expected value (also called the mean or mathematical expectation) of a probability distribution is a measure of the average outcome you'd expect if an experiment or random process were repeated many times.\n",
        "\n",
        "**In simple terms**:\n",
        "It is the weighted average of all possible values a random variable can take, where the weights are their corresponding probabilities."
      ],
      "metadata": {
        "id": "ZcTQapR0PeFc"
      }
    },
    {
      "cell_type": "markdown",
      "source": [
        "![st222.png](data:image/png;base64,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)"
      ],
      "metadata": {
        "id": "bWwTCJ96Pjq4"
      }
    },
    {
      "cell_type": "markdown",
      "source": [
        "This doesn't mean you can roll a 3.5—it just means 3.5 is the average value over many rolls."
      ],
      "metadata": {
        "id": "K-M-Z40MPmt5"
      }
    },
    {
      "cell_type": "markdown",
      "source": [
        "Ques23. How does a probability distribution relate to the expected outcome of a random variable ?"
      ],
      "metadata": {
        "id": "Q2KbWJtmPumL"
      }
    },
    {
      "cell_type": "markdown",
      "source": [
        "A probability distribution describes all the possible values a random variable can take, along with the probabilities associated with each of those values. The expected outcome (or expected value) of a random variable is a weighted average of all possible outcomes, using the probabilities from the distribution as weights."
      ],
      "metadata": {
        "id": "HPZuTnbzQFkC"
      }
    },
    {
      "cell_type": "markdown",
      "source": [
        "![st23.png](data:image/png;base64,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)"
      ],
      "metadata": {
        "id": "q1VxTANeQQOC"
      }
    }
  ]
}